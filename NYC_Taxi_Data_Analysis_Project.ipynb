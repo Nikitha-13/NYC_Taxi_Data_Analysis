{
  "nbformat": 4,
  "nbformat_minor": 0,
  "metadata": {
    "colab": {
      "provenance": [],
      "toc_visible": true
    },
    "kernelspec": {
      "name": "python3",
      "display_name": "Python 3"
    },
    "language_info": {
      "name": "python"
    }
  },
  "cells": [
    {
      "cell_type": "markdown",
      "source": [
        "# **NYC** **Taxi** **Data** **Analysis**"
      ],
      "metadata": {
        "id": "2FZFaxSf2SjS"
      }
    },
    {
      "cell_type": "markdown",
      "source": [
        "This code conducts a basic analysis on a dataset of NYC taxi information loaded from a CSV file using the NumPy library. The dataset is assumed to contain various details about taxi rides, such as distance traveled, time taken, tip amount, and payment type. Below is an overview of each section"
      ],
      "metadata": {
        "id": "rFbMVLWw2Ld0"
      }
    },
    {
      "cell_type": "markdown",
      "source": [
        "## **Loading Data:**\n",
        "\n",
        "* The NumPy library is used to load data from the CSV file (nyc_taxis.csv).\n",
        "* The delimiter=' , ' parameter specifies that the data is comma-separated, and skip_header=True skips the header row."
      ],
      "metadata": {
        "id": "17OLC8B-2Nuq"
      }
    },
    {
      "cell_type": "code",
      "execution_count": 9,
      "metadata": {
        "id": "ahwYiUBmxa9B"
      },
      "outputs": [],
      "source": [
        "# Importing the necessary library\n",
        "import numpy as np\n",
        "\n",
        "# Loading NYC taxi data from a CSV file\n",
        "taxi = np.genfromtxt('/nyc_taxis.csv', delimiter = ',', skip_header = True)"
      ]
    },
    {
      "cell_type": "code",
      "source": [
        "# Calculating the speed for each ride in miles per hour\n",
        "speed = taxi[:, 7]/ (taxi[:, 8]/3600)"
      ],
      "metadata": {
        "id": "e7MB5dC5xxoT"
      },
      "execution_count": 10,
      "outputs": []
    },
    {
      "cell_type": "markdown",
      "source": [
        "## **Calculating Mean Speed:**\n",
        "\n",
        "* The code calculates the speed for each ride by dividing the distance (taxi[:, 7]) by the time taken (taxi[:, 8]), converted from seconds to hours.\n",
        "* The mean speed of all rides is then computed using NumPy's mean() function."
      ],
      "metadata": {
        "id": "zeWayhk62qn4"
      }
    },
    {
      "cell_type": "code",
      "source": [
        "# Calculating Mean Speed of all rides\n",
        "mean_speed = speed.mean()\n",
        "print(mean_speed)"
      ],
      "metadata": {
        "colab": {
          "base_uri": "https://localhost:8080/"
        },
        "id": "mI8iRTkuzUdy",
        "outputId": "f21712f9-64db-461a-9025-ef8bbcd12f8a"
      },
      "execution_count": 11,
      "outputs": [
        {
          "output_type": "stream",
          "name": "stdout",
          "text": [
            "32.24258580925573\n"
          ]
        }
      ]
    },
    {
      "cell_type": "markdown",
      "source": [
        "## **Counting Rides in February:**\n",
        "\n",
        "* Rides occurring in February are identified by filtering rows where the second column (assuming columns are zero-indexed) has a value of 2.\n",
        "* The total number of rides in February is printed."
      ],
      "metadata": {
        "id": "jRV4xuee21sK"
      }
    },
    {
      "cell_type": "code",
      "source": [
        "# Filtering and counting the number of rides taken in February\n",
        "rides_feb = taxi[taxi[:, 1] == 2, 1]\n",
        "print(rides_feb.shape[0])"
      ],
      "metadata": {
        "colab": {
          "base_uri": "https://localhost:8080/"
        },
        "id": "8nykcvTszbuM",
        "outputId": "4fbbcb29-a098-43c8-ce87-9ec05eec37bb"
      },
      "execution_count": 14,
      "outputs": [
        {
          "output_type": "stream",
          "name": "stdout",
          "text": [
            "13333\n"
          ]
        }
      ]
    },
    {
      "cell_type": "markdown",
      "source": [
        "## **Counting Rides with Tip > $50:**\n",
        "\n",
        "* Rides with a tip amount greater than $50 are identified by filtering rows where the third-to-last column has a value exceeding $50.\n",
        "* The total number of such rides is printed."
      ],
      "metadata": {
        "id": "PcuYaWzT3Lym"
      }
    },
    {
      "cell_type": "code",
      "source": [
        " # Filtering and counting the number of rides with a tip greater than $50\n",
        "print(taxi[taxi[:, -3] > 50, -3].shape[0])"
      ],
      "metadata": {
        "colab": {
          "base_uri": "https://localhost:8080/"
        },
        "id": "jLHgfE9uzq5y",
        "outputId": "afc91efd-7fd8-43e9-ac1e-bf51748767c1"
      },
      "execution_count": 18,
      "outputs": [
        {
          "output_type": "stream",
          "name": "stdout",
          "text": [
            "16\n"
          ]
        }
      ]
    },
    {
      "cell_type": "markdown",
      "source": [
        "## **Counting Rides with Payment Type 2:**\n",
        "\n",
        "* Rides with a payment type of 2 are identified by filtering rows where the seventh column represents payment type.\n",
        "* The total number of rides with payment type 2 is printed."
      ],
      "metadata": {
        "id": "tNUyz3xH3Vsb"
      }
    },
    {
      "cell_type": "code",
      "source": [
        "# Filtering and counting the number of rides with payment type 2\n",
        "print(taxi[taxi[:, 6] == 2, 6].shape[0])\n"
      ],
      "metadata": {
        "colab": {
          "base_uri": "https://localhost:8080/"
        },
        "id": "BW-FkCJyz5_j",
        "outputId": "be1921db-803a-4a36-d58f-f2e71501e7fe"
      },
      "execution_count": 17,
      "outputs": [
        {
          "output_type": "stream",
          "name": "stdout",
          "text": [
            "11832\n"
          ]
        }
      ]
    }
  ]
}